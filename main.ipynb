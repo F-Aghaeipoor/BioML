{
 "cells": [
  {
   "cell_type": "code",
   "execution_count": 1,
   "metadata": {
    "ExecuteTime": {
     "end_time": "2021-04-17T06:57:59.883824Z",
     "start_time": "2021-04-17T06:57:59.880822Z"
    },
    "id": "8BEr31BsugTD"
   },
   "outputs": [],
   "source": [
    "## Call pip install on 1st time only\n",
    "# %%capture cap\n",
    "# pip install geneticalgorithm\n",
    "# pip install import-ipynb\n",
    "# pip install git+https://github.com/hyperopt/hyperopt-sklearn.git\n",
    "# pip install platypus-opt\n",
    "# pip install numpy=1.19.5"
   ]
  },
  {
   "cell_type": "markdown",
   "metadata": {
    "id": "9qnINu0VTt8a"
   },
   "source": [
    "# **Imports**"
   ]
  },
  {
   "cell_type": "code",
   "execution_count": 2,
   "metadata": {
    "ExecuteTime": {
     "end_time": "2021-04-17T06:58:23.474447Z",
     "start_time": "2021-04-17T06:57:59.889827Z"
    },
    "colab": {
     "base_uri": "https://localhost:8080/"
    },
    "id": "9gmaL2jdDguo",
    "outputId": "8c68f3c6-99a4-4193-bccf-064ad3b1c3c8",
    "scrolled": true
   },
   "outputs": [
    {
     "name": "stdout",
     "output_type": "stream",
     "text": [
      "WARN: OMP_NUM_THREADS=None =>\n",
      "... If you are using openblas if you are using openblas set OMP_NUM_THREADS=1 or risk subprocess calls hanging indefinitely\n"
     ]
    }
   ],
   "source": [
    "import os\n",
    "# from sklearn.datasets import load_iris\n",
    "from sklearn.linear_model import LogisticRegression\n",
    "from scipy.stats import variation \n",
    "import numpy as np\n",
    "import pandas as pd\n",
    "from sklearn.model_selection import train_test_split\n",
    "from sklearn.feature_selection import SelectKBest,SelectFromModel,RFE,chi2,mutual_info_classif,f_classif\n",
    "import matplotlib.pyplot as plt\n",
    "from sklearn import preprocessing,metrics\n",
    "from sklearn.pipeline import make_pipeline\n",
    "from sklearn.ensemble import RandomForestClassifier,AdaBoostClassifier,ExtraTreesClassifier\n",
    "from sklearn.model_selection import KFold,StratifiedKFold\n",
    "from sklearn.preprocessing import MinMaxScaler,StandardScaler\n",
    "import seaborn as sns\n",
    "from sklearn.metrics import accuracy_score,roc_auc_score,auc,roc_curve\n",
    "import math\n",
    "from sklearn.utils import shuffle\n",
    "\n",
    "# import statistics\n",
    "\n",
    "# import import_ipynb\n",
    "\n",
    "from hpsklearn import HyperoptEstimator, any_classifier, any_preprocessing, extra_trees,random_forest\n",
    "from hyperopt import tpe\n",
    "\n",
    "import warnings\n",
    "warnings.filterwarnings(\"ignore\", category=DeprecationWarning) "
   ]
  },
  {
   "cell_type": "markdown",
   "metadata": {
    "id": "H17noAJObOO7"
   },
   "source": [
    "# **Parameter Settings**"
   ]
  },
  {
   "cell_type": "code",
   "execution_count": 3,
   "metadata": {
    "ExecuteTime": {
     "end_time": "2021-04-17T06:58:23.487454Z",
     "start_time": "2021-04-17T06:58:23.476446Z"
    },
    "id": "vyOBJru1a2MY"
   },
   "outputs": [],
   "source": [
    "###--------------------------General--------------------------   \n",
    "\n",
    "data_folder=\"./data_myron/\"\n",
    "ensembl_and_gene_names = \"./R/data/Homo_sapiens.GRCh19.longest.GSE89843.ready.gtf\"\n",
    "data_path = data_folder + \"GSE89843_TEP_Count_Matrix_annot_ready.txt\"\n",
    "labels_path = data_folder + \"GSE89843_patients_characteristics_formatted_full.csv\"\n",
    "            \n",
    "n_folds=5\n",
    "# clf = LogisticRegression( solver='sag', multi_class='multinomial',random_state=42) \n",
    "clf =  RandomForestClassifier(n_estimators=100,random_state=42)\n",
    "\n",
    "shuffle_random_seed = 20\n",
    "verbose=True\n",
    "##--------------------------normalization--------------------------\n",
    "normalization_selected = \"TPM\" # \"TPM\" \"TMM\"  \"ruvseq_diff\"    \"ruvseq_cv\"\n",
    "normalisation_method_chosen=normalization_selected\n",
    "forced=True  # this parameter is to do normalization from scrach or reading those ones done befor\n",
    "top_f=50\n",
    "##--------------------------KBest--------------------------\n",
    "mode_KBest ='iterative'  #or fixed  iterative\n",
    "# mode_KBest ='fixed'  #or fixed  iterative\n",
    "\n",
    "estimator_KBest_Iterative = LogisticRegression( solver='sag', multi_class='multinomial',random_state=42)\n",
    "metric_of_KBest = mutual_info_classif   #chi2,mutual_info_classif,f_classif\n",
    "k_KBest=1000\n",
    "##--------------------------SelectFromModel--------------------------\n",
    "estimator_SelectFromModel=RandomForestClassifier(n_estimators=100,random_state=42)\n",
    "##--------------------------REF--------------------------\n",
    "step_REF=1\n",
    "estimator_RFE=RandomForestClassifier(n_estimators=100,random_state=42)\n",
    "n_final_features_to_select=5\n",
    "##--------------------------EVOFS--------------------------\n",
    "estimator_EVOFS=LogisticRegression(solver='saga', multi_class='multinomial',random_state=42,penalty='l1')\n",
    "score_func=mutual_info_classif   # chi2,mutual_info_classif,f_classif , it is recommended to set same as metric_of_KBest\n",
    "min_features=2\n",
    "max_generations=1000\n",
    "##--------------------------skmoefs--------------------------\n",
    "max_Evals=50000\n",
    "##--------------------------Tunning--------------------------\n",
    "max_evals_tunning=500\n",
    "trial_timeout_tunning=300\n",
    "\n",
    "\n",
    "#### Other classifires can be possibly used\n",
    "# andomForestClassifier(n_estimators=100,random_state=42)\n",
    "# AdaBoostClassifier()\n",
    "# ExtraTreesClassifier(n_estimators=50)\n",
    "# AdaBoostClassifier() \n",
    "\n",
    "\n"
   ]
  },
  {
   "cell_type": "markdown",
   "metadata": {
    "id": "ysxnCrczi6Yg"
   },
   "source": [
    "# **Methods and Classes**"
   ]
  },
  {
   "cell_type": "markdown",
   "metadata": {
    "id": "ZJRbD9QCTCr0"
   },
   "source": [
    "## **Result, PrintResult,MakeDF**"
   ]
  },
  {
   "cell_type": "code",
   "execution_count": 4,
   "metadata": {
    "ExecuteTime": {
     "end_time": "2021-04-17T06:58:23.731024Z",
     "start_time": "2021-04-17T06:58:23.490455Z"
    },
    "id": "pW3GH0O-swu8"
   },
   "outputs": [],
   "source": [
    "class Result:\n",
    "    Score_train,Score_test,AUC_train,AUC_test,n_selceted_feature,n_Rules,state=0,0,0,0,0,0,''\n",
    "    def __init__(self, Score_train=0, Score_test=0,AUC_train=0,AUC_test=0,n_selceted_feature=0,n_Rules=0,state=''):\n",
    "        self.Score_train,self.Score_test,self.AUC_train,self.AUC_test,self.n_selceted_feature,self.n_Rules,self.state=Score_train,Score_test,AUC_train,AUC_test,n_selceted_feature,n_Rules,state\n",
    "\n",
    "def PrintResults(results, state,DF_results):\n",
    "  # print('\\n'+ state + '....')\n",
    "    scores = [r.Score_train for r in results if r.state==state]\n",
    "    if len(scores)==0:\n",
    "        S1=np.nan\n",
    "    else:\n",
    "        S1=sum(scores)/len(scores)\n",
    "    scores = [r.Score_test for r in results if r.state==state]\n",
    "    if len(scores)==0: \n",
    "        S2=np.nan \n",
    "        S8=np.nan\n",
    "    else:\n",
    "        S2=sum(scores)/len(scores)\n",
    "        S8=np.std(scores)\n",
    "    scores = [r.AUC_train for r in results if r.state==state]\n",
    "    if len(scores)==0:\n",
    "        S3=np.nan\n",
    "    else:\n",
    "        S3=sum(scores)/len(scores)\n",
    "    scores = [r.AUC_test for r in results if r.state==state]\n",
    "    if len(scores)==0:\n",
    "        S4=np.nan\n",
    "        S7=np.nan\n",
    "    else:\n",
    "        S4=sum(scores)/len(scores)\n",
    "        S7=np.std(scores)\n",
    "    NumOfFeatures = [r.n_selceted_feature for r in results if r.state==state]\n",
    "    if len(NumOfFeatures)==0:\n",
    "        S5=np.nan\n",
    "    else:\n",
    "        S5=sum(NumOfFeatures)/len(NumOfFeatures)       \n",
    "    NumOfRules = [r.n_Rules for r in results if r.state==state]   \n",
    "    if len(NumOfRules)==0:\n",
    "        S6=np.nan\n",
    "    else:\n",
    "        S6=sum(NumOfRules)/len(NumOfRules)\n",
    "        \n",
    "    new_row = {'State':state, 'Train Acc':round(S1*100,2),'Train AUC':round(S3*100,2), 'Test Acc':round(S2*100,2),'STD':round(S8*100,2), 'Test AUC':round(S4*100,2), 'STD': round(S7*100,2) ,'# Features':S5, '# Rules':S6}\n",
    "    DF_results = DF_results.append(new_row, ignore_index=True) \n",
    "  # print('\\n'+ state + '....')\n",
    "  # print('Average Score_train: {}'.format(S1) + '  Average Score_test : {}'.format(S2) + '  NumOfFeatures : {}'.format(S3))\n",
    "    return DF_results\n",
    "\n",
    "def MakeDF(data_array,old_df,cols):\n",
    "    # cols = old_df.columns[selector.get_support()]\n",
    "    new_df = pd.DataFrame(data_array, index=old_df.index, columns=cols)\n",
    "    return new_df"
   ]
  },
  {
   "cell_type": "markdown",
   "metadata": {
    "id": "5-26ByJFcHLR"
   },
   "source": [
    "## **Train Method**"
   ]
  },
  {
   "cell_type": "code",
   "execution_count": 5,
   "metadata": {
    "ExecuteTime": {
     "end_time": "2021-04-17T06:58:23.831699Z",
     "start_time": "2021-04-17T06:58:23.733026Z"
    },
    "id": "48OAkPTeBzZ3"
   },
   "outputs": [],
   "source": [
    "# %%capture cap --no-stdout\n",
    "def Trainning(X_train,X_test,y_train,y_test,clf,state):\n",
    "    clf=clf.fit(X_train,y_train)\n",
    "    Score_train=clf.score(X_train,y_train)\n",
    "    predicted_prob_train=clf.predict_proba(X_train)\n",
    "    AUC_train= roc_auc_score(y_train, predicted_prob_train[:, 1])\n",
    "    \n",
    "    Score_test=clf.score(X_test,y_test)\n",
    "    predicted_prob_test=clf.predict_proba(X_test)\n",
    "    AUC_test = roc_auc_score(y_test, predicted_prob_test[:, 1])\n",
    "#     print(\"AUC_test = \"+str(AUC_test))    \n",
    "#     print(\"Initial Test ACC = \",Score_test)   \n",
    "    return  Result(Score_train,Score_test,AUC_train,AUC_test,X_train.shape[1],0,state)\n",
    " "
   ]
  },
  {
   "cell_type": "markdown",
   "metadata": {
    "id": "D8ZwEThXMAkI"
   },
   "source": [
    "## Read Data"
   ]
  },
  {
   "cell_type": "code",
   "execution_count": 6,
   "metadata": {
    "ExecuteTime": {
     "end_time": "2021-04-17T06:58:24.025100Z",
     "start_time": "2021-04-17T06:58:23.833700Z"
    },
    "id": "Or2tg5ERcEY-"
   },
   "outputs": [],
   "source": [
    "def ensg_id_to_genes_name(data):\n",
    "    data.index.names = [\"genes_names\"]\n",
    "    gene_annot = pd.read_csv(ensembl_and_gene_names, \"\\t\", index_col=0)\n",
    "    gene_annot = gene_annot[['genes_names', 'ensembl_name2']]\n",
    "    gene_annot.index = gene_annot[['genes_names'][0]]\n",
    "    gene_annot = gene_annot.drop('genes_names', axis=1)\n",
    "    merged_data = pd.merge(gene_annot, data, left_index=True, right_index=True)\n",
    "    merged_data.index = merged_data[['ensembl_name2'][0]]\n",
    "    merged_data = merged_data.drop('ensembl_name2', axis=1)\n",
    "    return merged_data\n",
    "\n",
    "def merge_split_data_labels(data, labels):\n",
    "    merged_data = pd.merge(labels, data, left_index=True, right_index=True)\n",
    "    labels = merged_data.loc[:, [\"Classification.group\"]]\n",
    "    data = merged_data.drop(columns=['Classification.group'])\n",
    "    return data, labels\n",
    "\n",
    "def ReadData(data_path, labels_path):\n",
    "    #X, y = load_iris(return_X_y = True)\n",
    "#     df=pd.read_csv(Path_data)\n",
    "#     df_y=pd.read_csv(Path_label)\n",
    "#     data=df.iloc[:, 1:-1]\n",
    "#     labels=df_y.iloc[:, 2].replace('Non.cancer', 0).replace('NSCLC', 1)\n",
    "    \n",
    "    \n",
    "    data = pd.read_csv(data_path, sep=\" \", index_col=0)\n",
    "    labels = pd.read_csv(labels_path, sep=\",\", index_col=0)\n",
    "    labels = labels['Classification.group']\n",
    "    labels = labels.replace('Non-cancer', 0)\n",
    "    labels = labels.replace('NSCLC', 1)\n",
    "    \n",
    "    data = ensg_id_to_genes_name(data).transpose()\n",
    "    labels_cl = shuffle(labels, random_state=shuffle_random_seed)\n",
    "    data, labels_cl = merge_split_data_labels(data, labels_cl)\n",
    "    \n",
    "    return data,labels_cl"
   ]
  },
  {
   "cell_type": "markdown",
   "metadata": {},
   "source": [
    "# **------------Start Pipline------------**"
   ]
  },
  {
   "cell_type": "markdown",
   "metadata": {},
   "source": [
    "# Normalisation"
   ]
  },
  {
   "cell_type": "code",
   "execution_count": 7,
   "metadata": {
    "ExecuteTime": {
     "end_time": "2021-04-17T06:58:24.170344Z",
     "start_time": "2021-04-17T06:58:24.032103Z"
    }
   },
   "outputs": [],
   "source": [
    "from os import path, makedirs\n",
    "from subprocess import call  \n",
    "import shlex  # for Linux\n",
    "\n",
    "results_folder = \"./R/results/\"\n",
    "r_scripts_path = \"./R/scripts/\"\n",
    "data_folder = \"./R/data/\"\n",
    "RscriptExe_path =\"C:/Program Files/R/R4/bin/Rscript \"\n",
    "ensembl_and_gene_names = \"./R/data/Homo_sapiens.GRCh19.longest.GSE89843.ready.gtf\"\n",
    "\n",
    "def diff_genes(t, l):\n",
    "    if not path.exists(results_folder + \"feature_selection\"):\n",
    "        makedirs(results_folder + \"feature_selection\")\n",
    "    if not path.exists(results_folder + \"feature_selection/diff_genes\"):\n",
    "        makedirs(results_folder + \"feature_selection/diff_genes\")\n",
    "    df_result = []\n",
    "\n",
    "    training_t = t.transpose()\n",
    "\n",
    "    training_t.to_csv(results_folder + \"feature_selection/diff_genes/data.csv\", sep=\",\")\n",
    "    l.to_csv(results_folder + \"feature_selection/diff_genes/labels.csv\", sep=\",\")\n",
    "\n",
    "    cmd =RscriptExe_path + r_scripts_path  + \"diff_genes.R \" + results_folder + \"feature_selection/diff_genes/data.csv\" + \\\n",
    "            \" \" + results_folder + \"feature_selection/diff_genes/labels.csv\" + \\\n",
    "            \" edger\" + \" \" + results_folder + \"feature_selection/diff_genes/ \" + str(i)\n",
    "#     with open(log.path, \"a\") as o:\n",
    "#     call(cmd) \n",
    "    call(shlex.split(cmd))\n",
    "    top_diff_genes = pd.read_csv(results_folder + \"feature_selection/diff_genes/\" + \"most_diff_genes_edger_\" + str(i) +\".txt\", sep=\" \", index_col=0)\n",
    "    top_diff_genes = top_diff_genes.apply(pd.to_numeric)\n",
    "    return top_diff_genes\n",
    "\n",
    "def compute_negative_control(data, nb_fold, forced):\n",
    "    if not path.exists(results_folder + \"negative_control_genes_myron_ruvseq_cv_fold_\" + str(nb_fold) + \".txt\") or forced:\n",
    "        var_dic = {}\n",
    "        for (columnName, columnData) in data.iteritems():\n",
    "            value = columnData.values\n",
    "            var = variation(value, axis = 0)\n",
    "            var_dic[columnName] = var\n",
    "\n",
    "        var_dic = {k: v for k, v in sorted(var_dic.items(), key=lambda item: item[1])}\n",
    "\n",
    "        negative_control_genes = []\n",
    "        for x in list(var_dic)[0:100]:\n",
    "            negative_control_genes.append(x)\n",
    "\n",
    "        outF = open(results_folder + \"negative_control_genes_myron_ruvseq_cv_fold_\" + str(nb_fold) + \".txt\", \"w\")\n",
    "        for line in negative_control_genes:\n",
    "            outF.write(line)\n",
    "            outF.write(\"\\n\")\n",
    "        outF.close()\n",
    "            \n",
    "def compute_negative_control_diff(data, labels, nb_fold, current_norm, forced):\n",
    "    if not path.exists(results_folder + \"negative_control_genes_myron_\" + current_norm + \"_fold_\" + str(nb_fold) +\".txt\") or forced:\n",
    "        df_genes = diff_genes(data, labels)\n",
    "        closest_to_0_gene = df_genes['logFC'].abs().idxmin()\n",
    "        closest_to_0_idx = df_genes.index.get_loc(closest_to_0_gene)\n",
    "        range_up = closest_to_0_idx + top_f\n",
    "        range_down = closest_to_0_idx - top_f\n",
    "        index_lst = list(df_genes.index)\n",
    "        outF = open(results_folder + \"negative_control_genes_myron_\" + current_norm + \"_fold_\" + str(nb_fold) +\".txt\", \"w\")\n",
    "        for k in range(range_down, range_up, 1):\n",
    "            outF.write(index_lst[k])\n",
    "            outF.write(\"\\n\")\n",
    "        outF.close()\n",
    "        \n",
    "def compute_diff(data, labels, nb_fold, current_norm, forced):\n",
    "    if not path.exists(results_folder + \"diff_genes_myron_\" + current_norm + \"_fold_\" + str(nb_fold) + \".csv\") or forced:\n",
    "        df_genes = diff_genes(data, labels)\n",
    "        df_genes.to_csv(results_folder + \"diff_genes_myron_\" + current_norm + \"_fold_\" + str(nb_fold) + \".csv\")\n",
    "        return df_genes\n",
    "    else:\n",
    "        df_genes = pd.read_csv(results_folder + \"diff_genes_myron_\" + current_norm + \"_fold_\" + str(nb_fold) +\".csv\", index_col=0)\n",
    "        return df_genes\n",
    "    \n",
    "def normalisation(data, nb_fold, typeset,forced, data_id=\"GSE89843\"):\n",
    "#     print(data.shape)\n",
    "    if not path.exists(results_folder + \"normalisation/\"):\n",
    "        makedirs(results_folder + \"normalisation/\")\n",
    "\n",
    "    if not path.exists(results_folder + \"normalisation/\" + data_id + \"_TEP_Count_Matrix_\" + normalisation_method_chosen + \"_\" + str(nb_fold) + \"_\" + typeset + \".txt\") or forced:\n",
    "        data = data.transpose()\n",
    "        data.to_csv(data_folder + data_id + \"_training_to_norm.csv\", sep=\" \")\n",
    "        cmd =RscriptExe_path + r_scripts_path + \"normalisation.R \" + data_folder + data_id + \"_training_to_norm.csv\" + \" \" + \\\n",
    "                normalisation_method_chosen + \" \" + results_folder + \"normalisation/\" + \" \" + data_id + \" \" + ensembl_and_gene_names + \" \" + str(nb_fold) + \" \" + typeset\n",
    "#         call(cmd)  \n",
    "        call(shlex.split(cmd))\n",
    "\n",
    "        data_norm = pd.read_csv(results_folder + \"normalisation/\" + data_id + \"_TEP_Count_Matrix_\" + normalisation_method_chosen + \"_\" + str(nb_fold) + \"_\" + typeset +  \".txt\", sep=\" \", index_col=0)\n",
    "        data_norm.transpose().to_csv(results_folder + \"normalisation/\" + data_id + \"_TEP_Count_Matrix_\" + normalisation_method_chosen + \"_\" + str(nb_fold) + \"_\" + typeset +  \".csv\", sep=\",\")\n",
    "        data_norm = data_norm.apply(pd.to_numeric)\n",
    "        data_norm = data_norm.transpose()\n",
    "        print(\"Nomalization done..\")\n",
    "    else:\n",
    "        data_norm = pd.read_csv(results_folder + \"normalisation/\" + data_id + \"_TEP_Count_Matrix_\" + normalisation_method_chosen + \"_\" + str(nb_fold) + \"_\" + typeset + \".csv\", sep=\",\", index_col=0)\n",
    "        data_norm = data_norm.apply(pd.to_numeric)\n",
    "        print(\"Nomalization was not done, only read the prevoius results..\")\n",
    "\n",
    "    return data_norm\n",
    "    \n",
    "def Normalize (X_train,X_test,y_train,nb_fold,normalization_selected):    \n",
    "        training=X_train\n",
    "        training_labels=y_train\n",
    "        test=X_test\n",
    "        \n",
    "#         log_path = results_folder + \"log.txt\"\n",
    "        data_id = \"GSE89843\"\n",
    "#         log = Log(log_path, data_id)\n",
    "        \n",
    "               \n",
    "        if normalization_selected == \"ruvseq_cv\":\n",
    "            compute_negative_control(training, nb_fold, forced=forced)\n",
    "        elif normalization_selected == \"ruvseq_diff\":\n",
    "            compute_negative_control_diff(training, training_labels, nb_fold, normalization_selected, forced=forced)\n",
    "        \n",
    "        \n",
    "        training_norm = normalisation(training, nb_fold, \"training\",forced)\n",
    "        index_2_remove = training_norm.columns[(training_norm == 0).all()].tolist()\n",
    "        training_norm = training_norm.drop(index_2_remove, axis=1)\n",
    "        test = test.drop(index_2_remove, axis=1)\n",
    "        df_genes = compute_diff(training, training_labels, nb_fold, normalization_selected, forced=forced)\n",
    "        t_mean = training_norm.mean(axis=0)\n",
    "        t_var = training_norm.var(axis=0)\n",
    "        training_norm = (training_norm - t_mean)/t_var\n",
    "        \n",
    "        test_norm = normalisation(test, nb_fold, \"test\",forced)\n",
    "        test_norm = (test_norm - t_mean)/t_var\n",
    "                \n",
    "        return training_norm,test_norm\n",
    "    "
   ]
  },
  {
   "cell_type": "markdown",
   "metadata": {
    "id": "pct5JcL2L274"
   },
   "source": [
    "# 1) Scaling "
   ]
  },
  {
   "cell_type": "code",
   "execution_count": 8,
   "metadata": {
    "ExecuteTime": {
     "end_time": "2021-04-17T06:58:24.341171Z",
     "start_time": "2021-04-17T06:58:24.176350Z"
    },
    "id": "5qLvOdfxZOXU"
   },
   "outputs": [],
   "source": [
    "def Scaling(X_train,X_test):\n",
    "  ## 1.Scaling features to a range [0,1]\n",
    "  ## 2.Standardize features by removing the mean (u=0) and scaling to the same variance,z = (x - u) / s\n",
    "  scaler = MinMaxScaler().fit(X_train)\n",
    "  #scaler = StandardScaler(with_mean=False).fit(X_train)\n",
    "  X_train_new=scaler.transform(X_train)\n",
    "  X_test_new=scaler.transform(X_test)\n",
    "  selected_cols=X_train.columns\n",
    "  return MakeDF(X_train_new,X_train,selected_cols),MakeDF(X_test_new,X_test,selected_cols)   #return train_df,test_df"
   ]
  },
  {
   "cell_type": "markdown",
   "metadata": {
    "id": "-LQw0IUeLxPU"
   },
   "source": [
    "# **2) FS: K Best**"
   ]
  },
  {
   "cell_type": "code",
   "execution_count": 9,
   "metadata": {
    "ExecuteTime": {
     "end_time": "2021-04-17T06:58:24.539779Z",
     "start_time": "2021-04-17T06:58:24.357177Z"
    },
    "id": "ym_kufAAam7W"
   },
   "outputs": [],
   "source": [
    "def KBestFS_Fixed(X_train , X_test, y_train, metric_of_KBest, k_KBest):\n",
    "    selector = SelectKBest(metric_of_KBest, k=k_KBest)  \n",
    "    X_train_new=selector.fit(X_train, y_train).transform(X_train)\n",
    "    X_test_new=selector.transform(X_test)\n",
    "    selected_cols=X_train.columns.values[selector.get_support()]\n",
    "    return MakeDF(X_train_new,X_train,selected_cols),MakeDF(X_test_new,X_test,selected_cols)   #return train_df,test_df\n",
    "\n",
    "def KBestFS_Iterative(X_train,X_test, y_train,metric_of_KBest):\n",
    "        k_KBest=X_train.shape[1]\n",
    "        X_train_old,X_test_old=KBestFS_Fixed(X_train,X_test,y_train,metric_of_KBest,k_KBest)\n",
    "        result=Trainning(X_train_old,X_test_old,y_train,y_test,estimator_KBest_Iterative,'SelectKBest_'+str(k_KBest))\n",
    "        old_measure=result.Score_train\n",
    "        \n",
    "        while True:\n",
    "#             print('k_KBest '+str(k_KBest))\n",
    "#             print('old_measure '+str(old_measure))\n",
    "            k_old = k_KBest\n",
    "            k_KBest=math.floor(k_KBest/2)\n",
    "            X_train_new,X_test_new=KBestFS_Fixed(X_train_old,X_test_old,y_train,metric_of_KBest,k_KBest)\n",
    "            result=Trainning(X_train_new,X_test_new,y_train,y_test,estimator_KBest_Iterative,'SelectKBest_'+str(k_KBest))\n",
    "            new_measure=result.Score_train\n",
    "            \n",
    "            if (abs(new_measure-old_measure)>=0.02): \n",
    "                break\n",
    "            else :\n",
    "                old_measure=new_measure\n",
    "                X_train_old,X_test_old=X_train_new,X_test_new\n",
    "            \n",
    "        k_KBest=k_old\n",
    "        \n",
    "        while True:\n",
    "#             print('k_KBest '+str(k_KBest))\n",
    "#             print('old_measure '+str(old_measure))\n",
    "            k_KBest=k_KBest-100\n",
    "            X_train_new,X_test_new=KBestFS_Fixed(X_train_old,X_test_old,y_train,metric_of_KBest,k_KBest)\n",
    "            result=Trainning(X_train_new,X_test_new,y_train,y_test,estimator_KBest_Iterative,'SelectKBest_'+str(k_KBest))\n",
    "            new_measure=result.Score_train\n",
    "            \n",
    "            if (abs(new_measure-old_measure)>=0.01): \n",
    "                break\n",
    "            else :\n",
    "                old_measure=new_measure\n",
    "                X_train_old,X_test_old=X_train_new,X_test_new                                     \n",
    "        return X_train_old,X_test_old \n",
    "\n",
    "def KBest_FS(X_train , X_test, y_train, metric_of_KBest, k_KBest):\n",
    "    if mode_KBest =='iterative':\n",
    "        return KBestFS_Iterative(X_train,X_test, y_train,metric_of_KBest)\n",
    "    else:\n",
    "        return KBestFS_Fixed(X_train , X_test, y_train, metric_of_KBest, k_KBest)\n",
    "        "
   ]
  },
  {
   "cell_type": "markdown",
   "metadata": {
    "id": "N2lKRY2MI2xX"
   },
   "source": [
    "# **3) FS: SelectFromModel**"
   ]
  },
  {
   "cell_type": "code",
   "execution_count": 10,
   "metadata": {
    "ExecuteTime": {
     "end_time": "2021-04-17T06:58:24.638567Z",
     "start_time": "2021-04-17T06:58:24.548780Z"
    },
    "id": "tnw33opv9d1C"
   },
   "outputs": [],
   "source": [
    "def ByModelFS(X_train , X_test, y_train):\n",
    "  selector = SelectFromModel(estimator_SelectFromModel,max_features=100)  \n",
    "  X_train_new=selector.fit(X_train, y_train).transform(X_train)\n",
    "  X_test_new=selector.transform(X_test)\n",
    "  selected_cols=X_train.columns.values[selector.get_support()]\n",
    "  return MakeDF(X_train_new,X_train,selected_cols),MakeDF(X_test_new,X_test,selected_cols)   #return train_df,test_df"
   ]
  },
  {
   "cell_type": "markdown",
   "metadata": {
    "id": "Y2Hwo-PTLrjL"
   },
   "source": [
    "# **4) FS: RFE**"
   ]
  },
  {
   "cell_type": "code",
   "execution_count": 11,
   "metadata": {
    "ExecuteTime": {
     "end_time": "2021-04-17T06:58:24.787250Z",
     "start_time": "2021-04-17T06:58:24.640567Z"
    },
    "id": "1vd3AcPxDWcc"
   },
   "outputs": [],
   "source": [
    "def RFE_FS(X_train , X_test,  y_train,n_final_features_to_select, step_REF):\n",
    "  selector = RFE(estimator_RFE, n_final_features_to_select, step=step_REF)\n",
    "  X_train_new=selector.fit(X_train, y_train).transform(X_train)\n",
    "  X_test_new=selector.transform(X_test)\n",
    "  selected_cols=X_train.columns.values[selector.get_support()]\n",
    "  return MakeDF(X_train_new,X_train,selected_cols),MakeDF(X_test_new,X_test,selected_cols)   #return train_df,test_df"
   ]
  },
  {
   "cell_type": "markdown",
   "metadata": {
    "id": "xflHzBh47ATS"
   },
   "source": [
    "# **5) HyperoptEstimator**"
   ]
  },
  {
   "cell_type": "code",
   "execution_count": 12,
   "metadata": {
    "ExecuteTime": {
     "end_time": "2021-04-17T06:58:24.945541Z",
     "start_time": "2021-04-17T06:58:24.795252Z"
    },
    "id": "V_KqBsXm3faM"
   },
   "outputs": [],
   "source": [
    "%%capture cap\n",
    "# Under Development......\n",
    "from hpsklearn import HyperoptEstimator, any_classifier, any_preprocessing,extra_trees\n",
    "from hyperopt import tpe\n",
    "from hyperopt import STATUS_OK\n",
    "from hyperopt import Trials\n",
    "from hyperopt import hp\n",
    "from hyperopt import fmin\n",
    "from sklearn.model_selection import cross_val_score\n",
    "N_FOLDS = 5\n",
    "MAX_EVALS = 1000\n",
    "def objective(params, n_folds = N_FOLDS):\n",
    "        \"\"\"Objective function for Logistic Regression Hyperparameter Tuning\"\"\"\n",
    "\n",
    "        # Perform n_fold cross validation with hyperparameters\n",
    "        # Use early stopping and evaluate based on ROC AUC\n",
    "\n",
    "        clf = LogisticRegression(**params,random_state=0,verbose =0)\n",
    "        scores = cross_val_score(clf, X_train,y_train, cv=5, scoring='roc_auc')  #roc_auc   f1_macro\n",
    "\n",
    "        # Extract the best score\n",
    "        best_score = max(scores)\n",
    "\n",
    "        # Loss must be minimized\n",
    "        loss = 1 - best_score\n",
    "\n",
    "        # Dictionary with information for evaluation\n",
    "        return {'loss': loss, 'params': params, 'status': STATUS_OK}\n",
    "    \n",
    "def Tuning_classifier():\n",
    "    space = {\n",
    "        #'class_weight': hp.choice('class_weight', [None, class_weight]),\n",
    "        'warm_start' : hp.choice('warm_start', [True, False]),\n",
    "        'fit_intercept' : hp.choice('fit_intercept', [True, False]),\n",
    "        'tol' : hp.uniform('tol', 0.00001, 0.0001),\n",
    "        'C' : hp.uniform('C', 0.05, 3),\n",
    "        'solver' : hp.choice('solver', ['newton-cg', 'lbfgs', 'liblinear', 'sag', 'saga']),\n",
    "        'max_iter' : hp.choice('max_iter', range(5,max_evals_tunning))}\n",
    "\n",
    "    # Algorithm\n",
    "    tpe_algorithm = tpe.suggest\n",
    "\n",
    "    # Trials object to track progress\n",
    "    bayes_trials = Trials()\n",
    "\n",
    "    # Optimize\n",
    "    best = fmin(fn = objective, space = space, algo = tpe.suggest, max_evals = MAX_EVALS, trials = bayes_trials)\n",
    "\n",
    "    # Fit-Predict\n",
    "    clf1= clf.fit(X_train, y_train)\n",
    "    return clf1\n",
    "\n",
    "\n",
    "def Tuning_classifier_2():\n",
    "    clf = hp.choice('clf', [(random_forest('random_forest', n_estimators=hp.choice('n_estimators_rf', range(1,100)),\n",
    "                                criterion=hp.choice('criterion_rf', [\"gini\", \"entropy\"]),\n",
    "                                n_jobs=10)),\n",
    "                                (extra_trees('extra_tree', n_estimators=hp.choice('n_estimators_extra', range(1,100)),\n",
    "                                criterion=hp.choice('criterion_extra', [\"gini\", \"entropy\"]),\n",
    "                                n_jobs=10))])\n",
    "\n",
    "    estim = HyperoptEstimator(classifier=clf,\n",
    "                                  preprocessing=[],\n",
    "                                  algo=tpe.suggest,\n",
    "                                  max_evals=max_evals_tunning,\n",
    "                                  trial_timeout=trial_timeout_tunning)\n",
    "    \n",
    "    \n",
    "    estim.fit(X_train,y_train)\n",
    "    clf = estim.best_model().get('learner')\n",
    "    return clf,estim.best_model()"
   ]
  },
  {
   "cell_type": "markdown",
   "metadata": {},
   "source": [
    "# 6) ChiRWClassifier"
   ]
  },
  {
   "cell_type": "code",
   "execution_count": 13,
   "metadata": {
    "ExecuteTime": {
     "end_time": "2021-04-17T06:58:25.388316Z",
     "start_time": "2021-04-17T06:58:24.947543Z"
    }
   },
   "outputs": [],
   "source": [
    "import time\n",
    "import sys\n",
    "import os\n",
    "\n",
    "module_path = os.path.abspath(os.path.join('..'))\n",
    "if module_path not in sys.path:\n",
    "    sys.path.append(module_path+\"/Implementation/ChiFRBCSPy\")\n",
    "    \n",
    "from ChiRWClassifier import ChiRWClassifier\n",
    "  \n",
    "def Traing_ChiRWClassifier(X_tr,X_tst,y_tr,y_tst,state):\n",
    "\n",
    "    start_time = time.time()\n",
    "    chi = ChiRWClassifier(frm=\"wr\")\n",
    "\n",
    "    chi=chi.fit(X_tr,y_tr)\n",
    "    y_pred = chi.predict(X_tr)\n",
    "    Score_train=accuracy_score(y_tr,y_pred)\n",
    "    print(\"The accuracy of Chi-FRBCS model (train) is: \",Score_train )\n",
    "    y_pred = chi.predict(X_tst)\n",
    "    Score_test=accuracy_score(y_tst,y_pred)\n",
    "    print(\"The accuracy of Chi-FRBCS model (test) is: \", Score_test)\n",
    "\n",
    "    #Only for two-class problems\n",
    "    probas_ = chi.predict_proba(X_tr)\n",
    "    fpr, tpr, thresholds = roc_curve(y_tr, probas_[:, 1])\n",
    "    AUC_train = auc(fpr, tpr)\n",
    "    print(\"The AUC of Chi-FRBCS model  (train) es: \", AUC_train)\n",
    "    \n",
    "    \n",
    "    probas_ = chi.predict_proba(X_tst)\n",
    "    fpr, tpr, thresholds = roc_curve(y_tst, probas_[:, 1])\n",
    "    AUC_test = auc(fpr, tpr)\n",
    "    print(\"The AUC of Chi-FRBCS model  (test) es: \", AUC_test)\n",
    "    \n",
    "    NumberofRules=len(chi.kb.ruleBase)\n",
    "\n",
    "    t_exec = time.time() - start_time\n",
    "    hours = int(t_exec / 3600);\n",
    "    rest = t_exec % 3600;\n",
    "    minutes = int(rest / 60);\n",
    "    seconds = rest % 60;\n",
    "\n",
    "    print(\"Execution Time: \", hours , \":\" , minutes , \":\" , '{0:.4g}'.format(seconds))\n",
    "    return  Result(Score_train,Score_test,AUC_train,AUC_test,X_train.shape[1],NumberofRules,state)"
   ]
  },
  {
   "cell_type": "markdown",
   "metadata": {
    "id": "NMUN8ELacM6q"
   },
   "source": [
    "# 7) Trying SKMoefs (P.Ducange 2014)...\n",
    "https://github.com/GionatanG/skmoefs"
   ]
  },
  {
   "cell_type": "code",
   "execution_count": 14,
   "metadata": {
    "ExecuteTime": {
     "end_time": "2021-04-17T06:58:34.575700Z",
     "start_time": "2021-04-17T06:58:25.394320Z"
    }
   },
   "outputs": [],
   "source": [
    "#%%capture cap\n",
    "\n",
    "# import sys\n",
    "# sys.path.append(\"C:/Users/MASNA.CO/skmoefs/skmoefs\")\n",
    "\n",
    "from platypus.algorithms import *\n",
    "from skmoefs.toolbox import MPAES_RCS, load_dataset, normalize\n",
    "from skmoefs.rcs import RCSInitializer, RCSVariator\n",
    "from skmoefs.discretization.discretizer_base import fuzzyDiscretization\n",
    "from sklearn.model_selection import train_test_split\n",
    "\n",
    "def CreatDatFile(X,y,datastName):\n",
    "    df=X.copy()\n",
    "    df['Class']=y.copy()\n",
    "    f=open('dataset/' + datastName +'.dat', 'w')\n",
    "    f.write('@relation '+datastName +'\\n')\n",
    "    inputs=[]\n",
    "    line2=\"\"\n",
    "    for col in X.columns:\n",
    "        line='@attribute '+ col +' real ' +'['+ str(X[col].values.min()) +','+ str(X[col].values.max())+']\\n'\n",
    "        line2= line2+ str(col)+', '      \n",
    "        f.write(line) \n",
    "        \n",
    "    line='@attribute Class'+' integer ' +'{'+ str(y.min()) +','+ str(y.max())+'}\\n'\n",
    "\n",
    "    f.write(line)\n",
    "    f.write('@inputs '+line2+'\\n') \n",
    "    f.write('@outputs Class\\n@data\\n') \n",
    "    df.to_csv(f,index=False, header=False)\n",
    "    return \n",
    "\n",
    "def TrainMOEA(X_train,y_train,X_test,y_test,foldNumber,state,max_Evals):\n",
    "    dataset_Tra_Name='GeneExpre_Tra_'+str(foldNumber)\n",
    "    CreatDatFile(X_train,y_train,dataset_Tra_Name)\n",
    "    X_Tra, y_Tra, attributes, inputs, outputs = load_dataset(dataset_Tra_Name)  #iris\n",
    "    Xtr, ytr = normalize(X_Tra, y_Tra, attributes)\n",
    "\n",
    "    dataset_Tst_Name='GeneExpre_Tst_'+str(foldNumber)\n",
    "    CreatDatFile(X_test,y_test,dataset_Tst_Name)\n",
    "    X_Tst, y_Tst, attributes, inputs, outputs = load_dataset(dataset_Tst_Name)  #iris\n",
    "    Xte, yte = normalize(X_Tst, y_Tst, attributes)\n",
    "\n",
    "    my_moefs = MPAES_RCS(variator=RCSVariator(), initializer=RCSInitializer())\n",
    "    my_moefs.fit(Xtr, ytr, max_evals=max_Evals)\n",
    "\n",
    "    # my_moefs.show_pareto()\n",
    "    # my_moefs.show_pareto(Xte, yte)\n",
    "    # my_moefs.show_model('median', inputs=inputs, outputs=outputs)\n",
    "    scores_train=my_moefs.score(Xtr, ytr)\n",
    "    scores_test=my_moefs.score(Xte, yte)\n",
    "\n",
    "    Score_train = max(scores_train, key=lambda x:x[0])[0]  #0 accuracy  1 auc   2 trl\n",
    "    Score_test= max(scores_test, key=lambda x:x[0])[0]  #0 accuracy  1 auc   2 trl\n",
    "    AUC_train = max(Score_train, key=lambda x:x[1])[1]\n",
    "    AUC_test = max(scores_test, key=lambda x:x[1])[1]\n",
    "#     print(type(Score_train))\n",
    "#     print(Score_test)\n",
    "#     print(AUC)\n",
    "    return  Result(Score_train,Score_test,AUC_train,AUC_test ,X_train.shape[1],0,state)"
   ]
  },
  {
   "cell_type": "markdown",
   "metadata": {},
   "source": [
    "# 8) Trying Multi-Objective _FS "
   ]
  },
  {
   "cell_type": "code",
   "execution_count": 15,
   "metadata": {
    "ExecuteTime": {
     "end_time": "2021-04-17T06:58:35.533595Z",
     "start_time": "2021-04-17T06:58:34.582715Z"
    }
   },
   "outputs": [],
   "source": [
    "module_path = os.path.abspath(os.path.join('..'))\n",
    "if module_path not in sys.path:\n",
    "    sys.path.append(module_path+\"/Implementation/evofs\")\n",
    "    \n",
    "from evofs import EvoFS\n",
    "def EVOFS (X_train , X_test,y_train):\n",
    "\n",
    "        model = EvoFS(estimator=estimator_EVOFS,min_features=min_features,max_generations=max_generations,score_func=score_func,verbose=verbose)#\n",
    "#         model.fit(X_train.to_numpy(), y_train)\n",
    "        model.fit(X_train, y_train)\n",
    "\n",
    "        x_train_reduced = model.transform(X_train)\n",
    "        x_test_reduced = model.transform(X_test)\n",
    "\n",
    "        return x_train_reduced ,x_test_reduced"
   ]
  },
  {
   "cell_type": "markdown",
   "metadata": {
    "id": "t2V_uAeWfEgi"
   },
   "source": [
    "# **------------Running------------**"
   ]
  },
  {
   "cell_type": "code",
   "execution_count": null,
   "metadata": {
    "ExecuteTime": {
     "start_time": "2021-04-17T06:57:59.947Z"
    },
    "colab": {
     "base_uri": "https://localhost:8080/"
    },
    "id": "iwjyF7HDG6SS",
    "outputId": "6647cd57-5c03-42bb-a186-4ed44ed8cbba",
    "scrolled": true
   },
   "outputs": [
    {
     "name": "stdout",
     "output_type": "stream",
     "text": [
      "\n",
      "fold 1 is processing...\n",
      "Initialization is processing...\n",
      "Normalisation is processing...\n",
      "Nomalization done..\n",
      "Nomalization done..\n",
      "Scaling is processing...\n",
      "SelectKBest is processing...\n",
      "Multi-Objective_FS is processing...\n",
      "Fuzzy_Chi_Classifier is processing...\n",
      "Initializing classifier:\n",
      "\n",
      "Rule Generation\n",
      "Computing Matching Degrees Rule\n",
      "Computing Matching Degrees All\n",
      "Computing Rule Weights\n",
      "Rule Base: 441\n",
      "The accuracy of Chi-FRBCS model (train) is:  0.8443017656500803\n",
      "The accuracy of Chi-FRBCS model (test) is:  0.8205128205128205\n",
      "The AUC of Chi-FRBCS model  (train) es:  0.9249293246115434\n",
      "The AUC of Chi-FRBCS model  (test) es:  0.8924342105263159\n",
      "Execution Time:  0 : 0 : 48.83\n",
      "\n",
      "fold 2 is processing...\n",
      "Initialization is processing...\n",
      "Normalisation is processing...\n",
      "Nomalization done..\n",
      "Nomalization done..\n",
      "Scaling is processing...\n",
      "SelectKBest is processing...\n",
      "Multi-Objective_FS is processing...\n"
     ]
    }
   ],
   "source": [
    "# %%capture cap --no-stdout\n",
    "results=[]\n",
    "Best_model=[]\n",
    "Best_classifier=[]\n",
    "i=0\n",
    "X,y = ReadData(data_path, labels_path)\n",
    "\n",
    "# cv= KFold(n_folds, random_state=42, shuffle=True) \n",
    "# for train_index, test_index in cv.split(X):\n",
    "\n",
    "cv = StratifiedKFold(n_folds, random_state=42, shuffle=True)#\n",
    "for train_index, test_index in cv.split(X,y):\n",
    "    i=i+1\n",
    "    print('\\nfold '+str(i)+' is processing...')\n",
    "    \n",
    "    X_train,X_test,y_train,y_test=X.iloc[train_index,:],X.iloc[test_index,:],y.iloc[train_index],y.iloc[test_index]\n",
    "    \n",
    "    print('Initialization is processing...')\n",
    "    result=Trainning(X_train,X_test,y_train,y_test,clf,'Initialization')\n",
    "    results.append(result)\n",
    "    \n",
    "    print('Normalisation is processing...')\n",
    "    X_train, X_test = Normalize(X_train,X_test,y_train,i,normalization_selected)\n",
    "    result=Trainning(X_train,X_test,y_train,y_test,clf,'Normalisation_'+normalization_selected)\n",
    "    results.append(result)    \n",
    "\n",
    "    print('Scaling is processing...')\n",
    "    X_train,X_test=Scaling(X_train,X_test)\n",
    "    result=Trainning(X_train,X_test,y_train,y_test,clf,'Scaling')\n",
    "    results.append(result)\n",
    "\n",
    "    print('SelectKBest is processing...')\n",
    "    X_train,X_test=KBest_FS(X_train , X_test, y_train, metric_of_KBest, k_KBest)\n",
    "    result=Trainning(X_train,X_test,y_train,y_test,clf,mode_KBest+'_KBest')\n",
    "    results.append(result)\n",
    "\n",
    "#     print('SelectFromModel is processing...')\n",
    "#     X_train,X_test=ByModelFS(X_train,X_test, y_train)\n",
    "#     result=Trainning(X_train,X_test,y_train,y_test,clf,'SelectFromModel')\n",
    "#     results.append(result)\n",
    "\n",
    "#     print('RFE_FS is processing...')\n",
    "#     X_train,X_test=RFE_FS(X_train , X_test, y_train, n_final_features_to_select, step_REF)\n",
    "#     result=Trainning(X_train,X_test,y_train,y_test,clf,'RFE_FS')\n",
    "#     results.append(result)\n",
    "\n",
    "    print('Multi-Objective_FS is processing...')\n",
    "    X_train,X_test= EVOFS (X_train , X_test,y_train['Classification.group'].values)\n",
    "    result=Trainning(X_train,X_test,y_train,y_test,clf,'Multi-Objective_FS')\n",
    "    results.append(result) \n",
    "\n",
    "    print('Fuzzy_Chi_Classifier is processing...')\n",
    "    result=Traing_ChiRWClassifier(X_train,X_test,y_train,y_test,'Fuzzy_Chi_Classifier')\n",
    "    results.append(result)\n",
    "\n",
    "#     print('MPAES_RCS is processing...')\n",
    "#     result= TrainMOEA(X_train,y_train,X_test,y_test,i-1,\"MPAES_RCS\",max_Evals)\n",
    "#     results.append(result)\n",
    "\n",
    "#     print('Tuning_classifier is processing...')\n",
    "#     clf1, model=Tuning_classifier_2()  # random_forest() or  extra_trees()\n",
    "# #     clf1=Tuning_classifier()  # logistic tuning\n",
    "#     result=Trainning(X_train,X_test,y_train,y_test,clf1,'Tuning_classifier')\n",
    "#     results.append(result)\n",
    "#     Best_model.append(model)\n",
    "#     Best_classifier.append(clf1)\n"
   ]
  },
  {
   "cell_type": "markdown",
   "metadata": {
    "id": "dAkO_lPqfexC"
   },
   "source": [
    "# **Show Results**"
   ]
  },
  {
   "cell_type": "code",
   "execution_count": 25,
   "metadata": {
    "ExecuteTime": {
     "end_time": "2021-04-17T09:17:55.941723Z",
     "start_time": "2021-04-17T09:17:55.671541Z"
    },
    "id": "bGkT2aM1nq28"
   },
   "outputs": [
    {
     "data": {
      "text/html": [
       "<div>\n",
       "<style scoped>\n",
       "    .dataframe tbody tr th:only-of-type {\n",
       "        vertical-align: middle;\n",
       "    }\n",
       "\n",
       "    .dataframe tbody tr th {\n",
       "        vertical-align: top;\n",
       "    }\n",
       "\n",
       "    .dataframe thead th {\n",
       "        text-align: right;\n",
       "    }\n",
       "</style>\n",
       "<table border=\"1\" class=\"dataframe\">\n",
       "  <thead>\n",
       "    <tr style=\"text-align: right;\">\n",
       "      <th></th>\n",
       "      <th>State</th>\n",
       "      <th>Train Acc</th>\n",
       "      <th>Train AUC</th>\n",
       "      <th>Test Acc</th>\n",
       "      <th>STD</th>\n",
       "      <th>Test AUC</th>\n",
       "      <th>STD</th>\n",
       "      <th># Features</th>\n",
       "      <th># Rules</th>\n",
       "    </tr>\n",
       "  </thead>\n",
       "  <tbody>\n",
       "    <tr>\n",
       "      <td>0</td>\n",
       "      <td>Initialization</td>\n",
       "      <td>100.00</td>\n",
       "      <td>100.00</td>\n",
       "      <td>81.90</td>\n",
       "      <td>2.37</td>\n",
       "      <td>90.67</td>\n",
       "      <td>2.37</td>\n",
       "      <td>4587.0</td>\n",
       "      <td>0.0</td>\n",
       "    </tr>\n",
       "    <tr>\n",
       "      <td>1</td>\n",
       "      <td>Normalisation_TPM</td>\n",
       "      <td>100.00</td>\n",
       "      <td>100.00</td>\n",
       "      <td>85.75</td>\n",
       "      <td>2.13</td>\n",
       "      <td>92.02</td>\n",
       "      <td>2.13</td>\n",
       "      <td>4587.0</td>\n",
       "      <td>0.0</td>\n",
       "    </tr>\n",
       "    <tr>\n",
       "      <td>2</td>\n",
       "      <td>Scaling</td>\n",
       "      <td>100.00</td>\n",
       "      <td>100.00</td>\n",
       "      <td>85.36</td>\n",
       "      <td>2.11</td>\n",
       "      <td>92.10</td>\n",
       "      <td>2.11</td>\n",
       "      <td>4587.0</td>\n",
       "      <td>0.0</td>\n",
       "    </tr>\n",
       "    <tr>\n",
       "      <td>3</td>\n",
       "      <td>iterative_KBest</td>\n",
       "      <td>100.00</td>\n",
       "      <td>100.00</td>\n",
       "      <td>86.00</td>\n",
       "      <td>2.43</td>\n",
       "      <td>92.73</td>\n",
       "      <td>2.43</td>\n",
       "      <td>387.6</td>\n",
       "      <td>0.0</td>\n",
       "    </tr>\n",
       "    <tr>\n",
       "      <td>4</td>\n",
       "      <td>Multi-Objective_FS</td>\n",
       "      <td>100.00</td>\n",
       "      <td>100.00</td>\n",
       "      <td>82.02</td>\n",
       "      <td>3.39</td>\n",
       "      <td>89.03</td>\n",
       "      <td>3.39</td>\n",
       "      <td>12.8</td>\n",
       "      <td>0.0</td>\n",
       "    </tr>\n",
       "    <tr>\n",
       "      <td>5</td>\n",
       "      <td>Fuzzy_Chi_Classifier</td>\n",
       "      <td>84.02</td>\n",
       "      <td>91.37</td>\n",
       "      <td>79.46</td>\n",
       "      <td>1.73</td>\n",
       "      <td>86.19</td>\n",
       "      <td>1.73</td>\n",
       "      <td>12.8</td>\n",
       "      <td>257.4</td>\n",
       "    </tr>\n",
       "  </tbody>\n",
       "</table>\n",
       "</div>"
      ],
      "text/plain": [
       "                  State  Train Acc  Train AUC  Test Acc   STD  Test AUC   STD  \\\n",
       "0        Initialization     100.00     100.00     81.90  2.37     90.67  2.37   \n",
       "1     Normalisation_TPM     100.00     100.00     85.75  2.13     92.02  2.13   \n",
       "2               Scaling     100.00     100.00     85.36  2.11     92.10  2.11   \n",
       "3       iterative_KBest     100.00     100.00     86.00  2.43     92.73  2.43   \n",
       "4    Multi-Objective_FS     100.00     100.00     82.02  3.39     89.03  3.39   \n",
       "5  Fuzzy_Chi_Classifier      84.02      91.37     79.46  1.73     86.19  1.73   \n",
       "\n",
       "   # Features  # Rules  \n",
       "0      4587.0      0.0  \n",
       "1      4587.0      0.0  \n",
       "2      4587.0      0.0  \n",
       "3       387.6      0.0  \n",
       "4        12.8      0.0  \n",
       "5        12.8    257.4  "
      ]
     },
     "execution_count": 25,
     "metadata": {},
     "output_type": "execute_result"
    }
   ],
   "source": [
    "Results_df = pd.DataFrame(columns=['State', 'Train Acc', 'Train AUC','Test Acc','STD','Test AUC','STD','# Features','# Rules'])\n",
    "Results_df=PrintResults(results, 'Initialization',Results_df)\n",
    "Results_df=PrintResults(results, 'Normalisation_'+normalization_selected,Results_df)\n",
    "Results_df=PrintResults(results, 'Scaling',Results_df)\n",
    "Results_df=PrintResults(results, mode_KBest+'_KBest',Results_df)\n",
    "# Results_df=PrintResults(results, 'SelectFromModel',Results_df)\n",
    "# Results_df=PrintResults(results, 'RFE_FS',Results_df)\n",
    "Results_df=PrintResults(results, 'Multi-Objective_FS',Results_df)\n",
    "Results_df=PrintResults(results, 'Fuzzy_Chi_Classifier',Results_df)\n",
    "# Results_df=PrintResults(results, 'MPAES_RCS',Results_df)\n",
    "# Results_df=PrintResults(results, 'Tuning_classifier',Results_df)\n",
    "\n",
    "Results_df.head(10)"
   ]
  },
  {
   "cell_type": "code",
   "execution_count": null,
   "metadata": {
    "ExecuteTime": {
     "start_time": "2021-04-17T06:57:59.953Z"
    },
    "id": "tkzAC_kUY2ij"
   },
   "outputs": [],
   "source": [
    "## Save classifier\n",
    "# Results_df.to_csv(\"C:/Users/MASNA.CO/Dropbox/PAPERS/10-/Results/2Round_ruvseq_cv_RF.csv\",index=False)\n",
    "# Results_df=pd.read_csv(\"C:/Users/MASNA.CO/Dropbox/PAPERS/10-/Results/2Round_ruvseq_diff_LR.csv\")\n",
    "# Results_df.head(10)"
   ]
  },
  {
   "cell_type": "markdown",
   "metadata": {
    "id": "nLPWpXTAfWUE"
   },
   "source": [
    "# **Plotting**"
   ]
  },
  {
   "cell_type": "code",
   "execution_count": 26,
   "metadata": {
    "ExecuteTime": {
     "end_time": "2021-04-17T09:26:55.951415Z",
     "start_time": "2021-04-17T09:26:55.134871Z"
    }
   },
   "outputs": [
    {
     "data": {
      "image/png": "[encoded data removed]",
      "text/plain": [
       "<Figure size 432x288 with 2 Axes>"
      ]
     },
     "metadata": {
      "needs_background": "light"
     },
     "output_type": "display_data"
    }
   ],
   "source": [
    "fig, axs = plt.subplots(1,2)   #,constrained_layout=True\n",
    "\n",
    "sns.catplot(x=\"State\", y=\"Test AUC\",kind=\"point\", data=Results_df,color='r',ax=axs[0])\n",
    "axs[0].set_xticklabels(labels=axs[0].get_xticklabels(),rotation=70,size=10)\n",
    "axs[0].set(ylim=(0, 100))\n",
    "\n",
    "axs[1].set(ylim=(-200, 4700))\n",
    "\n",
    "sns.barplot(x=\"State\", y=\"# Features\", data=Results_df,ax=axs[1])\n",
    "axs[1].set_xticklabels(labels=axs[1].get_xticklabels(),rotation=70,size=10)\n",
    "fig.subplots_adjust(wspace=2)\n",
    "\n",
    "plt.close(2)\n",
    "plt.close(3)\n",
    "\n",
    "# plt.savefig('C:/Users/MASNA.CO/Dropbox/PAPERS/10-/Results/2Round_ruvseq_cv_RF.png', bbox_inches='tight')"
   ]
  },
  {
   "cell_type": "markdown",
   "metadata": {
    "id": "_EIN3dT2e3c9"
   },
   "source": [
    "# ------------End of Pipeline------------"
   ]
  },
  {
   "cell_type": "code",
   "execution_count": null,
   "metadata": {
    "ExecuteTime": {
     "start_time": "2021-04-17T06:57:59.960Z"
    }
   },
   "outputs": [],
   "source": [
    "## Do not run this cell :))\n",
    "# os.system(\"shutdown /h\") #hibernate\n",
    "# normalization_selected"
   ]
  },
  {
   "cell_type": "code",
   "execution_count": null,
   "metadata": {
    "ExecuteTime": {
     "start_time": "2021-04-17T06:57:59.964Z"
    }
   },
   "outputs": [],
   "source": [
    "# normalization_selected = \"TMM\" # \"TPM\" \"TMM\"  \"ruvseq_diff\"    \"ruvseq_cv\"\n",
    "# normalisation_method_chosen=normalization_selected\n",
    "# Normalize (X_train,X_test,y_train,1,normalization_selected)"
   ]
  },
  {
   "cell_type": "code",
   "execution_count": null,
   "metadata": {
    "ExecuteTime": {
     "start_time": "2021-04-17T06:57:59.967Z"
    }
   },
   "outputs": [],
   "source": [
    "# X_train = ensg_id_to_genes_name(X_train).transpose()\n",
    "# normalisation_method_chosen = \"ruvseq_diff\" #  \"TMM\" \"TPM\" \"ruvseq_diff\"    \"ruvseq_cv\"\n",
    "# normalisation(X_train, 0, \"training\", data_id=\"GSE89843\")"
   ]
  }
 ],
 "metadata": {
  "colab": {
   "name": "Test1.ipynb",
   "provenance": []
  },
  "kernelspec": {
   "display_name": "Python 3",
   "language": "python",
   "name": "python3"
  },
  "language_info": {
   "codemirror_mode": {
    "name": "ipython",
    "version": 3
   },
   "file_extension": ".py",
   "mimetype": "text/x-python",
   "name": "python",
   "nbconvert_exporter": "python",
   "pygments_lexer": "ipython3",
   "version": "3.7.4"
  },
  "toc": {
   "base_numbering": 1,
   "nav_menu": {
    "height": "320px",
    "width": "261px"
   },
   "number_sections": true,
   "sideBar": true,
   "skip_h1_title": false,
   "title_cell": "Table of Contents",
   "title_sidebar": "Contents",
   "toc_cell": false,
   "toc_position": {
    "height": "382px",
    "left": "85px",
    "top": "110px",
    "width": "290.938px"
   },
   "toc_section_display": true,
   "toc_window_display": true
  }
 },
 "nbformat": 4,
 "nbformat_minor": 1
}
